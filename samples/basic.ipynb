{
 "cells": [
  {
   "cell_type": "markdown",
   "id": "342a4fa7-6784-4f8b-b330-b219dadf1e28",
   "metadata": {},
   "source": [
    "# Sample: Basic use of Chatgpt API"
   ]
  },
  {
   "cell_type": "code",
   "execution_count": 1,
   "id": "863f4c83-1dcb-456b-be89-9bfcf569aafb",
   "metadata": {},
   "outputs": [
    {
     "name": "stdout",
     "output_type": "stream",
     "text": [
      "hello world\n"
     ]
    }
   ],
   "source": [
    "print('hello world')"
   ]
  }
 ],
 "metadata": {
  "kernelspec": {
   "display_name": "Python 3 (ipykernel)",
   "language": "python",
   "name": "python3"
  },
  "language_info": {
   "codemirror_mode": {
    "name": "ipython",
    "version": 3
   },
   "file_extension": ".py",
   "mimetype": "text/x-python",
   "name": "python",
   "nbconvert_exporter": "python",
   "pygments_lexer": "ipython3",
   "version": "3.10.13"
  }
 },
 "nbformat": 4,
 "nbformat_minor": 5
}
