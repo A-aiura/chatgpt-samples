{
 "cells": [
  {
   "cell_type": "markdown",
   "id": "342a4fa7-6784-4f8b-b330-b219dadf1e28",
   "metadata": {},
   "source": [
    "# Sample: Basic use of Chatgpt API"
   ]
  },
  {
   "cell_type": "markdown",
   "id": "701a69cf-4b20-4d5c-a515-7fc1b5314019",
   "metadata": {},
   "source": [
    "### Initial setting"
   ]
  },
  {
   "cell_type": "code",
   "execution_count": 8,
   "id": "863f4c83-1dcb-456b-be89-9bfcf569aafb",
   "metadata": {},
   "outputs": [],
   "source": [
    "import os\n",
    "from openai import OpenAI\n",
    "\n",
    "client = OpenAI(\n",
    "    organization = os.environ.get('OPENAI_ORGANIZATION_ID'),\n",
    "    api_key = os.environ.get('OPENAI_API_KEY')\n",
    ")"
   ]
  },
  {
   "cell_type": "markdown",
   "id": "22e503da-782d-4ea0-bdc7-6d58e5c98f26",
   "metadata": {},
   "source": [
    "### Sample code"
   ]
  },
  {
   "cell_type": "code",
   "execution_count": 10,
   "id": "cd4f93c7-253d-4f6a-b747-75ffb76902e8",
   "metadata": {},
   "outputs": [
    {
     "name": "stdout",
     "output_type": "stream",
     "text": [
      "こんにちは！どのようにお手伝いできますか？\n"
     ]
    }
   ],
   "source": [
    "resp = client.chat.completions.create(\n",
    "    model=\"gpt-3.5-turbo\",\n",
    "    messages=[\n",
    "        {\"role\": \"system\", \"content\": \"You must reply in Japanese.\"},  # Set system prompt\n",
    "        {\"role\": \"user\", \"content\": \"Hi!\"}             # Initial question\n",
    "    ],\n",
    "    temperature=1  # range: 0-2, default: 1\n",
    ")\n",
    "\n",
    "print(resp.choices[0].message.content)"
   ]
  }
 ],
 "metadata": {
  "kernelspec": {
   "display_name": "Python 3 (ipykernel)",
   "language": "python",
   "name": "python3"
  },
  "language_info": {
   "codemirror_mode": {
    "name": "ipython",
    "version": 3
   },
   "file_extension": ".py",
   "mimetype": "text/x-python",
   "name": "python",
   "nbconvert_exporter": "python",
   "pygments_lexer": "ipython3",
   "version": "3.10.13"
  }
 },
 "nbformat": 4,
 "nbformat_minor": 5
}
